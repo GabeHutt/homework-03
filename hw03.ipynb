{
  "cells": [
    {
      "cell_type": "markdown",
      "metadata": {},
      "source": [
        "# DATASCI 101, Homework 03"
      ]
    },
    {
      "cell_type": "code",
      "execution_count": 31,
      "metadata": {},
      "outputs": [],
      "source": [
        "# basic setup, run this first\n",
        "import warnings\n",
        "warnings.simplefilter(action='ignore', category=FutureWarning)\n",
        "import numpy as np"
      ]
    },
    {
      "cell_type": "markdown",
      "metadata": {},
      "source": [
        "## Question 1\n",
        "\n",
        "We will start this homework with some questions on collections in Python.\n",
        "\n",
        "### Q1.a\n",
        "\n",
        "Recall that *sets* are collections where each value in the collection only appears once.\n",
        "\n",
        "Using the `set` function, turn both of these strings into sets. Then use set methods to find\n",
        "\n",
        "* How many letters are shared between the two names?\n",
        "* Which letters are in \"George Washington\" that are not in \"Abraham Lincoln\"?\n",
        "* How many letters are in neither president's name?\n"
      ]
    },
    {
      "cell_type": "code",
      "execution_count": 32,
      "metadata": {},
      "outputs": [
        {
          "name": "stdout",
          "output_type": "stream",
          "text": [
            "Shared Letters:  {'i', 'h', 'a', 'n', 'r', ' ', 'o'} Count:  7\n",
            "Letters in gw but not al:  {'w', 'g', 't', 's', 'e'}\n",
            "Letters in neither name:  {'d', 'u', 'z', 'q', 'y', 'v', 'f', 'x', 'j', 'p', 'k'}\n"
          ]
        }
      ],
      "source": [
        "gw = \"George Washington\".lower()\n",
        "al = \"Abraham Lincoln\".lower()\n",
        "az = \"abcdefghijklmnopqrstuvwxyz\"\n",
        "\n",
        "gw_set = set(gw)\n",
        "al_set = set(al)\n",
        "az_set = set(az)\n",
        "#1\n",
        "print (\"Shared Letters: \", gw_set & al_set, \"Count: \", len(gw_set & al_set))\n",
        "#2\n",
        "print(\"Letters in gw but not al: \", gw_set - al_set)\n",
        "#3\n",
        "print(\"Letters in neither name: \", az_set - (gw_set | al_set))"
      ]
    },
    {
      "cell_type": "markdown",
      "metadata": {},
      "source": [
        "### Q1.b\n",
        "\n",
        "\n",
        "\n",
        "Use a `for` loop to find the unique values in the lunch orders below. Using Python, print out the number of unique items being ordered. (*Hint*: You can use `set()` to create an empty set.)"
      ]
    },
    {
      "cell_type": "code",
      "execution_count": 33,
      "metadata": {},
      "outputs": [
        {
          "name": "stdout",
          "output_type": "stream",
          "text": [
            "7\n"
          ]
        }
      ],
      "source": [
        "lunch_orders = [{\"pasta\", \"coffee\"},\n",
        "                {\"fries\",\"sandwich\", \"cookie\"},\n",
        "                {\"pasta\", \"salad\", \"water\"},\n",
        "                {\"salad\", \"pasta\", \"coffee\"},\n",
        "                {\"sandwich\", \"water\"}]\n",
        "lunch_set = set()\n",
        "for i in lunch_orders:\n",
        "    lunch_set |= i\n",
        "print(len(lunch_set))"
      ]
    },
    {
      "cell_type": "markdown",
      "metadata": {},
      "source": [
        "### Q1.c\n",
        "\n",
        "Here is a menu at the resturant, with items and their cost:\n",
        "\n",
        "| Item | Price | Vegetarian |\n",
        "| --- | --- | --- |\n",
        "| salad | 8 | True |\n",
        "| soup | 5 | False |\n",
        "| pasta | 12 | True |\n",
        "| sandwich | 9 | False |\n",
        "| burger | 13 | False |\n",
        "| fries | 6 | True |\n",
        "| cake | 6 | True |\n",
        "| cookie| 3 | True |\n",
        "| water | 0 | True |\n",
        "| coffee| 2 | True |\n",
        "| soda | 3 | True |\n",
        "\n",
        "Create a dictionary called `menu` that has the item names as keys and a two-tuple with (price, vegetarian) as the value.\n",
        "\n",
        "Demonstrate by retrieving the price and vegetarian status of \"burger\".\n",
        "\n",
        "\n",
        "\n",
        "### Q1.d\n",
        "\n",
        "Write a function that takes a lunch order (a set of menu items) and returns the total price.\n",
        "\n",
        "Write a function that takes a lunch order a returns true if the entire order is vegetarian.\n",
        "\n",
        "Use list comprehensions to compute the price of each order and whether each order is vegtarian."
      ]
    },
    {
      "cell_type": "code",
      "execution_count": 34,
      "metadata": {},
      "outputs": [
        {
          "name": "stdout",
          "output_type": "stream",
          "text": [
            "Burger (price, vegetarian):  (13, False)\n"
          ]
        }
      ],
      "source": [
        "menu = {\n",
        "    \"salad\" : (8, True),\n",
        "    \"soup\" : (5, False),\n",
        "    \"pasta\" : (12, True),\n",
        "    \"sandwich\" : (9, False),\n",
        "    \"burger\" : (13, False),\n",
        "    \"fries\" : (6, True),\n",
        "    \"cake\" : (6, True),\n",
        "    \"cookie\" : (3, True),\n",
        "    \"water\" : (0, True),\n",
        "    \"coffee\" : (2, True),\n",
        "    \"soda\" : (3, True)\n",
        "}\n",
        "\n",
        "print(\"Burger (price, vegetarian): \", menu['burger'])\n",
        "\n",
        "def total_price(order_set):\n",
        "    return sum(menu[item][0] for item in order_set)\n",
        "\n",
        "def is_vegetarian(order_set):\n",
        "    return all(menu[item][1] for item in order_set)\n",
        "\n",
        "\n"
      ]
    },
    {
      "cell_type": "markdown",
      "metadata": {},
      "source": [
        "### Q1.e\n",
        "\n",
        "When you have completed your menu in the part (c) you can remove the `#` charcters make this code run:"
      ]
    },
    {
      "cell_type": "code",
      "execution_count": 35,
      "metadata": {},
      "outputs": [],
      "source": [
        "menu_dict = {\n",
        "   \"name\": list(menu.keys()),\n",
        "   \"price\": [i[0] for i in menu.values()],\n",
        "   \"vegetarian\": [i[1] for i in menu.values()]\n",
        "}"
      ]
    },
    {
      "cell_type": "markdown",
      "metadata": {},
      "source": [
        "Use this table to compute the following:\n",
        "\n",
        "* What is the price of the most expensive item in the list?\n",
        "* What is the name of the most expensive item? (You can use the `np.argmax()` function to help you.)\n",
        "* How many vegetarian items are there?\n",
        "\n",
        "\n",
        "\n",
        "### Question 2"
      ]
    },
    {
      "cell_type": "code",
      "execution_count": 36,
      "metadata": {},
      "outputs": [
        {
          "name": "stdout",
          "output_type": "stream",
          "text": [
            "Most Expensive Item Price: 13\n",
            "Most Expensive Item Name: burger\n",
            "Number of Vegetarian Items: 8\n"
          ]
        }
      ],
      "source": [
        "# run this to do question 2\n",
        "import pandas as pd\n",
        "\n",
        "most_expensive_price = max(menu_dict[\"price\"])\n",
        "most_expensive_item = menu_dict[\"name\"][np.argmax(menu_dict[\"price\"])]\n",
        "num_vegetarian_items = sum(menu_dict[\"vegetarian\"])\n",
        "\n",
        "print(\"Most Expensive Item Price:\", most_expensive_price)\n",
        "print(\"Most Expensive Item Name:\", most_expensive_item)\n",
        "print(\"Number of Vegetarian Items:\", num_vegetarian_items)"
      ]
    },
    {
      "cell_type": "markdown",
      "metadata": {},
      "source": [
        "### Q2.a\n",
        "\n",
        "Here's a Pandas `DataFrame` version of our menu table."
      ]
    },
    {
      "cell_type": "code",
      "execution_count": 37,
      "metadata": {},
      "outputs": [
        {
          "name": "stdout",
          "output_type": "stream",
          "text": [
            "Least Expensive Item: water\n",
            "Number of items between $5 and $10: 5\n",
            "Vegetarian items costing more than $10: ['pasta']\n"
          ]
        }
      ],
      "source": [
        "menu_df = pd.DataFrame({'name': ['salad',\n",
        "  'soup',\n",
        "  'pasta',\n",
        "  'sandwich',\n",
        "  'burger',\n",
        "  'fries',\n",
        "  'cake',\n",
        "  'cookie',\n",
        "  'water',\n",
        "  'coffee',\n",
        "  'soda'],\n",
        " 'price': [8, 5, 12, 9, 13, 6, 6, 3, 0, 2, 3],\n",
        " 'vegetarian': [True,\n",
        "  False,\n",
        "  True,\n",
        "  False,\n",
        "  False,\n",
        "  True,\n",
        "  True,\n",
        "  True,\n",
        "  True,\n",
        "  True,\n",
        "  True]})\n",
        "\n",
        "# 1. Least expensive item\n",
        "least_expensive_item = menu_df.loc[menu_df['price'].idxmin(), 'name']\n",
        "print(\"Least Expensive Item:\", least_expensive_item)\n",
        "\n",
        "# 2. Items costing between 5 and 10\n",
        "items_between_5_and_10 = menu_df[(menu_df['price'] >= 5) & (menu_df['price'] <= 10)]\n",
        "print(\"Number of items between $5 and $10:\", len(items_between_5_and_10))\n",
        "\n",
        "# 3. Vegetarian items costing more than $10\n",
        "veg_items_above_10 = menu_df[(menu_df['vegetarian']) & (menu_df['price'] > 10)]\n",
        "print(\"Vegetarian items costing more than $10:\", veg_items_above_10['name'].tolist())"
      ]
    },
    {
      "cell_type": "markdown",
      "metadata": {},
      "source": [
        "Using **methods** for Series objects (i.e., methods called on the columns of the table. Compute the following:\n",
        "\n",
        "* The name of the least expensive item on the list.\n",
        "* The number of items that cost between 5 and 10 dollars (inclusive).\n",
        "* The names all of vegetarian items that cost more than 10 dollars."
      ]
    },
    {
      "cell_type": "markdown",
      "metadata": {},
      "source": [
        "### Q2.b\n",
        "\n",
        "Create a table that is only composed of items that cost less than or equal to $5 (call the `value_items`).\n"
      ]
    },
    {
      "cell_type": "markdown",
      "metadata": {},
      "source": [
        "How many vegetarian items are in this menu?"
      ]
    },
    {
      "cell_type": "code",
      "execution_count": 38,
      "metadata": {},
      "outputs": [
        {
          "name": "stdout",
          "output_type": "stream",
          "text": [
            "Number of vegetarian items under $5: 4\n"
          ]
        }
      ],
      "source": [
        "value_items = menu_df[menu_df['price'] <= 5]\n",
        "num_vegetarian_in_value_items = value_items['vegetarian'].sum()\n",
        "print(\"Number of vegetarian items under $5:\", num_vegetarian_in_value_items)"
      ]
    },
    {
      "cell_type": "markdown",
      "metadata": {},
      "source": [
        "## Q2.c\n",
        "\n",
        "Let's use these techniques on some real data!"
      ]
    },
    {
      "cell_type": "code",
      "execution_count": 39,
      "metadata": {},
      "outputs": [
        {
          "name": "stdout",
          "output_type": "stream",
          "text": [
            "Index(['duration_ms', 'track.explicit', 'key', 'danceability', 'energy',\n",
            "       'loudness', 'acousticness', 'instrumentalness', 'liveness', 'tempo',\n",
            "       'time_signature', 'track.popularity', 'track.album.release_date',\n",
            "       'track.name', 'artist.name'],\n",
            "      dtype='object')\n",
            "Number of songs with popularity > 80: 84\n",
            "Shortest song duration with popularity > 80 (ms): 109091\n",
            "Slowest tempo song with popularity > 80: Lover with tempo: 68.534\n"
          ]
        }
      ],
      "source": [
        "spotify = pd.read_csv(\"./spotify.csv\")\n",
        "print(spotify.columns)\n",
        "# 1. Songs with popularity greater than 80\n",
        "popular_songs_count = (spotify['track.popularity'] > 80).sum()\n",
        "print(\"Number of songs with popularity > 80:\", popular_songs_count)\n",
        "\n",
        "# 2. Shortest song with popularity > 80\n",
        "shortest_song_popular = spotify.loc[spotify['track.popularity'] > 80, 'duration_ms'].min()\n",
        "print(\"Shortest song duration with popularity > 80 (ms):\", shortest_song_popular)\n",
        "\n",
        "# 3. Slowest tempo song with popularity > 80\n",
        "slowest_tempo_song = spotify.loc[spotify['track.popularity'] > 80]\n",
        "slowest_tempo_song_detail = slowest_tempo_song.loc[slowest_tempo_song['tempo'].idxmin()]\n",
        "print(\"Slowest tempo song with popularity > 80:\", slowest_tempo_song_detail['track.name'], \n",
        "      \"with tempo:\", slowest_tempo_song_detail['tempo'])"
      ]
    },
    {
      "cell_type": "markdown",
      "metadata": {},
      "source": [
        "Using Python and Pandas, answer the following questions:\n",
        "\n",
        "* How many songs have a popularity greater than 80?\n",
        "* For songs with a popularity greater than 80, what is the shortest song (in miliseconds)?\n",
        "* What is the name of the song with popularity greater than 80 that has the slowest tempo?"
      ]
    },
    {
      "cell_type": "markdown",
      "metadata": {},
      "source": [
        "### Q2.d\n",
        "\n",
        "Here is a little code that will create a new column with four (approximately) evenly sized groups based on popularly (low, medium, medium high, and high). The code after creating the columns shows how many rows are in each group. There are a few songs with the same popularity value, which makes it difficult to get exactly evenly sized groups, but this is pretty close. The `(a, b]` output on the left shows the popularity range of that group."
      ]
    },
    {
      "cell_type": "code",
      "execution_count": 40,
      "metadata": {},
      "outputs": [
        {
          "data": {
            "text/plain": [
              "popgrp\n",
              "(-0.001, 41.0]    250\n",
              "(53.0, 67.0]      242\n",
              "(67.0, 100.0]     238\n",
              "(41.0, 53.0]      237\n",
              "Name: count, dtype: int64"
            ]
          },
          "execution_count": 40,
          "metadata": {},
          "output_type": "execute_result"
        }
      ],
      "source": [
        "spotify[\"popgrp\"] = pd.qcut(spotify[\"track.popularity\"], 4)\n",
        "spotify[\"popgrp\"].value_counts()"
      ]
    },
    {
      "cell_type": "markdown",
      "metadata": {},
      "source": [
        "For each group, find the number of explicit songs using the `\"track.explicit\"` column. Which group has the most explicit songs?"
      ]
    },
    {
      "cell_type": "code",
      "execution_count": 41,
      "metadata": {},
      "outputs": [
        {
          "name": "stdout",
          "output_type": "stream",
          "text": [
            "Explicit song counts by popularity group:\n",
            " popgrp\n",
            "(-0.001, 41.0]    29\n",
            "(41.0, 53.0]      24\n",
            "(53.0, 67.0]      32\n",
            "(67.0, 100.0]     73\n",
            "Name: track.explicit, dtype: int64\n",
            "The most popular songs have the most explicit content\n"
          ]
        }
      ],
      "source": [
        "spotify[\"popgrp\"] = pd.qcut(spotify[\"track.popularity\"], 4)\n",
        "explicit_counts = spotify.groupby(\"popgrp\")[\"track.explicit\"].sum()\n",
        "print(\"Explicit song counts by popularity group:\\n\", explicit_counts)\n",
        "print(\"The most popular songs have the most explicit content\")"
      ]
    },
    {
      "cell_type": "markdown",
      "metadata": {},
      "source": [
        "### Q2.e\n",
        "\n",
        "Create a new column that is the product of `danceability` and `energy`. Find the song with the highest product of danceability and energy. Find the tempo of this song. Is it a particularly fast song in terms of tempo? How many songs are faster than this song? How many are slower?"
      ]
    },
    {
      "cell_type": "code",
      "execution_count": 42,
      "metadata": {},
      "outputs": [
        {
          "name": "stdout",
          "output_type": "stream",
          "text": [
            "Song with highest danceability-energy product: Miracle - Radio Edit\n",
            "Tempo of this song: 121.98\n",
            "Number of songs faster: 394\n",
            "Number of songs slower: 571\n"
          ]
        }
      ],
      "source": [
        "spotify['dance_energy_product'] = spotify['danceability'] * spotify['energy']\n",
        "highest_product_song = spotify.loc[spotify['dance_energy_product'].idxmax()]\n",
        "print(\"Song with highest danceability-energy product:\", highest_product_song['track.name'])\n",
        "print(\"Tempo of this song:\", highest_product_song['tempo'])\n",
        "\n",
        "# Songs faster/slower than this one\n",
        "faster_count = (spotify['tempo'] > highest_product_song['tempo']).sum()\n",
        "slower_count = (spotify['tempo'] < highest_product_song['tempo']).sum()\n",
        "\n",
        "print(\"Number of songs faster:\", faster_count)\n",
        "print(\"Number of songs slower:\", slower_count)"
      ]
    }
  ],
  "metadata": {
    "kernelspec": {
      "display_name": "Python 3 (ipykernel)",
      "language": "python",
      "name": "python3",
      "path": "/Users/mark/Documents/Professional/Teaching/umich/data-science-101-materials/env/share/jupyter/kernels/python3"
    },
    "language_info": {
      "codemirror_mode": {
        "name": "ipython",
        "version": 3
      },
      "file_extension": ".py",
      "mimetype": "text/x-python",
      "name": "python",
      "nbconvert_exporter": "python",
      "pygments_lexer": "ipython3",
      "version": "3.12.1"
    }
  },
  "nbformat": 4,
  "nbformat_minor": 4
}
